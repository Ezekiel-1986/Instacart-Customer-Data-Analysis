{
 "cells": [
  {
   "cell_type": "markdown",
   "id": "f01fae2b",
   "metadata": {},
   "source": [
    "1. Importing Libraries"
   ]
  },
  {
   "cell_type": "code",
   "execution_count": 2,
   "id": "3955bbfd",
   "metadata": {},
   "outputs": [],
   "source": [
    "#Importing Data and Libraries\n",
    "import pandas as pd\n",
    "import numpy as np\n",
    "import os\n",
    "import matplotlib.pyplot as plt\n",
    "import seaborn as sns\n",
    "import scipy"
   ]
  },
  {
   "cell_type": "code",
   "execution_count": 4,
   "id": "ae61ba01",
   "metadata": {},
   "outputs": [],
   "source": [
    "# Creating path\n",
    "path = r'/Users/mac/Documents/01-2022 Instacart Basket Analysis'"
   ]
  },
  {
   "cell_type": "code",
   "execution_count": 16,
   "id": "f582181a",
   "metadata": {},
   "outputs": [],
   "source": [
    "# Importing merged instacart data\n",
    "df_merged_cust = pd.read_csv(os.path.join(path, '02 Data', 'Prepared Data', 'merged_cust.csv'), index_col = False)"
   ]
  },
  {
   "cell_type": "code",
   "execution_count": 86,
   "id": "45e14e33",
   "metadata": {},
   "outputs": [],
   "source": [
    "#Importing departments file as dataframe\n",
    "departments = pd.read_csv(os.path.join(path, '02 Data', 'Prepared Data', 'departments_wrangled.csv'), index_col = False)"
   ]
  },
  {
   "cell_type": "code",
   "execution_count": 87,
   "id": "14867b03",
   "metadata": {},
   "outputs": [
    {
     "data": {
      "text/html": [
       "<div>\n",
       "<style scoped>\n",
       "    .dataframe tbody tr th:only-of-type {\n",
       "        vertical-align: middle;\n",
       "    }\n",
       "\n",
       "    .dataframe tbody tr th {\n",
       "        vertical-align: top;\n",
       "    }\n",
       "\n",
       "    .dataframe thead th {\n",
       "        text-align: right;\n",
       "    }\n",
       "</style>\n",
       "<table border=\"1\" class=\"dataframe\">\n",
       "  <thead>\n",
       "    <tr style=\"text-align: right;\">\n",
       "      <th></th>\n",
       "      <th>department_id</th>\n",
       "      <th>department</th>\n",
       "    </tr>\n",
       "  </thead>\n",
       "  <tbody>\n",
       "    <tr>\n",
       "      <th>0</th>\n",
       "      <td>1</td>\n",
       "      <td>frozen</td>\n",
       "    </tr>\n",
       "    <tr>\n",
       "      <th>1</th>\n",
       "      <td>2</td>\n",
       "      <td>other</td>\n",
       "    </tr>\n",
       "    <tr>\n",
       "      <th>2</th>\n",
       "      <td>3</td>\n",
       "      <td>bakery</td>\n",
       "    </tr>\n",
       "    <tr>\n",
       "      <th>3</th>\n",
       "      <td>4</td>\n",
       "      <td>produce</td>\n",
       "    </tr>\n",
       "    <tr>\n",
       "      <th>4</th>\n",
       "      <td>5</td>\n",
       "      <td>alcohol</td>\n",
       "    </tr>\n",
       "  </tbody>\n",
       "</table>\n",
       "</div>"
      ],
      "text/plain": [
       "   department_id department\n",
       "0              1     frozen\n",
       "1              2      other\n",
       "2              3     bakery\n",
       "3              4    produce\n",
       "4              5    alcohol"
      ]
     },
     "execution_count": 87,
     "metadata": {},
     "output_type": "execute_result"
    }
   ],
   "source": [
    "departments.head()"
   ]
  },
  {
   "cell_type": "code",
   "execution_count": 96,
   "id": "9d0b5a49",
   "metadata": {},
   "outputs": [],
   "source": [
    "#Adding department name to merged instacart dataframe\n",
    "merged_cust_dept = merged_cust.merge(departments, on = ['department_id'], indicator = False)"
   ]
  },
  {
   "cell_type": "code",
   "execution_count": 4,
   "id": "cff09580",
   "metadata": {},
   "outputs": [],
   "source": [
    "crosstab = pd.crosstab(df_merged_cust['days_since_prior_order'], df_merged_cust['order_number'], dropna = False)"
   ]
  },
  {
   "cell_type": "code",
   "execution_count": 5,
   "id": "e34bd31c",
   "metadata": {},
   "outputs": [],
   "source": [
    "crosstab.to_clipboard()"
   ]
  },
  {
   "cell_type": "markdown",
   "id": "e024aa41",
   "metadata": {},
   "source": [
    "2. Adressing any PII data in the data"
   ]
  },
  {
   "cell_type": "code",
   "execution_count": 17,
   "id": "387ffc76",
   "metadata": {},
   "outputs": [],
   "source": [
    "# Addressing any PII in the data\n",
    "merged_cust = df_merged_cust.drop(columns = ['First_name', 'Surname'])"
   ]
  },
  {
   "cell_type": "code",
   "execution_count": 19,
   "id": "9f67dd34",
   "metadata": {},
   "outputs": [
    {
     "data": {
      "text/html": [
       "<div>\n",
       "<style scoped>\n",
       "    .dataframe tbody tr th:only-of-type {\n",
       "        vertical-align: middle;\n",
       "    }\n",
       "\n",
       "    .dataframe tbody tr th {\n",
       "        vertical-align: top;\n",
       "    }\n",
       "\n",
       "    .dataframe thead th {\n",
       "        text-align: right;\n",
       "    }\n",
       "</style>\n",
       "<table border=\"1\" class=\"dataframe\">\n",
       "  <thead>\n",
       "    <tr style=\"text-align: right;\">\n",
       "      <th></th>\n",
       "      <th>Unnamed: 0</th>\n",
       "      <th>Unnamed: 0.1</th>\n",
       "      <th>Unnamed: 0.1.1</th>\n",
       "      <th>Unnamed: 0_x</th>\n",
       "      <th>order_id</th>\n",
       "      <th>user_id</th>\n",
       "      <th>eval_set</th>\n",
       "      <th>order_number</th>\n",
       "      <th>order_dow</th>\n",
       "      <th>order_hour_of_day</th>\n",
       "      <th>...</th>\n",
       "      <th>median_days_since_prior_order</th>\n",
       "      <th>Customer_frequency_flag</th>\n",
       "      <th>Gender</th>\n",
       "      <th>State</th>\n",
       "      <th>Age</th>\n",
       "      <th>date_joined</th>\n",
       "      <th>Number_of_dependants</th>\n",
       "      <th>Family_status</th>\n",
       "      <th>income</th>\n",
       "      <th>Region</th>\n",
       "    </tr>\n",
       "  </thead>\n",
       "  <tbody>\n",
       "    <tr>\n",
       "      <th>7805</th>\n",
       "      <td>7805</td>\n",
       "      <td>10030382</td>\n",
       "      <td>10030382</td>\n",
       "      <td>221802</td>\n",
       "      <td>1435153</td>\n",
       "      <td>1519</td>\n",
       "      <td>prior</td>\n",
       "      <td>26</td>\n",
       "      <td>2</td>\n",
       "      <td>11</td>\n",
       "      <td>...</td>\n",
       "      <td>6.0</td>\n",
       "      <td>Frequent customer</td>\n",
       "      <td>Male</td>\n",
       "      <td>Rhode Island</td>\n",
       "      <td>68</td>\n",
       "      <td>3/4/2020</td>\n",
       "      <td>0</td>\n",
       "      <td>divorced/widowed</td>\n",
       "      <td>177864</td>\n",
       "      <td>Northeast</td>\n",
       "    </tr>\n",
       "    <tr>\n",
       "      <th>7806</th>\n",
       "      <td>7806</td>\n",
       "      <td>10030383</td>\n",
       "      <td>10030383</td>\n",
       "      <td>221899</td>\n",
       "      <td>1066435</td>\n",
       "      <td>1519</td>\n",
       "      <td>prior</td>\n",
       "      <td>32</td>\n",
       "      <td>3</td>\n",
       "      <td>10</td>\n",
       "      <td>...</td>\n",
       "      <td>6.0</td>\n",
       "      <td>Frequent customer</td>\n",
       "      <td>Male</td>\n",
       "      <td>Rhode Island</td>\n",
       "      <td>68</td>\n",
       "      <td>3/4/2020</td>\n",
       "      <td>0</td>\n",
       "      <td>divorced/widowed</td>\n",
       "      <td>177864</td>\n",
       "      <td>Northeast</td>\n",
       "    </tr>\n",
       "    <tr>\n",
       "      <th>15143</th>\n",
       "      <td>15143</td>\n",
       "      <td>10030391</td>\n",
       "      <td>10030391</td>\n",
       "      <td>361308</td>\n",
       "      <td>1697208</td>\n",
       "      <td>2409</td>\n",
       "      <td>prior</td>\n",
       "      <td>33</td>\n",
       "      <td>1</td>\n",
       "      <td>19</td>\n",
       "      <td>...</td>\n",
       "      <td>5.0</td>\n",
       "      <td>Frequent customer</td>\n",
       "      <td>Female</td>\n",
       "      <td>Hawaii</td>\n",
       "      <td>55</td>\n",
       "      <td>11/11/2018</td>\n",
       "      <td>2</td>\n",
       "      <td>married</td>\n",
       "      <td>230074</td>\n",
       "      <td>West</td>\n",
       "    </tr>\n",
       "    <tr>\n",
       "      <th>20264</th>\n",
       "      <td>20264</td>\n",
       "      <td>29165526</td>\n",
       "      <td>29165526</td>\n",
       "      <td>527948</td>\n",
       "      <td>965345</td>\n",
       "      <td>3531</td>\n",
       "      <td>prior</td>\n",
       "      <td>27</td>\n",
       "      <td>2</td>\n",
       "      <td>19</td>\n",
       "      <td>...</td>\n",
       "      <td>8.0</td>\n",
       "      <td>Frequent customer</td>\n",
       "      <td>Female</td>\n",
       "      <td>Hawaii</td>\n",
       "      <td>80</td>\n",
       "      <td>10/6/2019</td>\n",
       "      <td>2</td>\n",
       "      <td>married</td>\n",
       "      <td>233776</td>\n",
       "      <td>West</td>\n",
       "    </tr>\n",
       "    <tr>\n",
       "      <th>20497</th>\n",
       "      <td>20497</td>\n",
       "      <td>10030408</td>\n",
       "      <td>10030408</td>\n",
       "      <td>569513</td>\n",
       "      <td>2943740</td>\n",
       "      <td>3793</td>\n",
       "      <td>prior</td>\n",
       "      <td>1</td>\n",
       "      <td>2</td>\n",
       "      <td>9</td>\n",
       "      <td>...</td>\n",
       "      <td>14.0</td>\n",
       "      <td>Regular customer</td>\n",
       "      <td>Male</td>\n",
       "      <td>Louisiana</td>\n",
       "      <td>59</td>\n",
       "      <td>8/23/2019</td>\n",
       "      <td>3</td>\n",
       "      <td>married</td>\n",
       "      <td>182933</td>\n",
       "      <td>South</td>\n",
       "    </tr>\n",
       "    <tr>\n",
       "      <th>...</th>\n",
       "      <td>...</td>\n",
       "      <td>...</td>\n",
       "      <td>...</td>\n",
       "      <td>...</td>\n",
       "      <td>...</td>\n",
       "      <td>...</td>\n",
       "      <td>...</td>\n",
       "      <td>...</td>\n",
       "      <td>...</td>\n",
       "      <td>...</td>\n",
       "      <td>...</td>\n",
       "      <td>...</td>\n",
       "      <td>...</td>\n",
       "      <td>...</td>\n",
       "      <td>...</td>\n",
       "      <td>...</td>\n",
       "      <td>...</td>\n",
       "      <td>...</td>\n",
       "      <td>...</td>\n",
       "      <td>...</td>\n",
       "      <td>...</td>\n",
       "    </tr>\n",
       "    <tr>\n",
       "      <th>32303799</th>\n",
       "      <td>32303799</td>\n",
       "      <td>29165639</td>\n",
       "      <td>29165639</td>\n",
       "      <td>8099400</td>\n",
       "      <td>3265389</td>\n",
       "      <td>51346</td>\n",
       "      <td>prior</td>\n",
       "      <td>4</td>\n",
       "      <td>1</td>\n",
       "      <td>17</td>\n",
       "      <td>...</td>\n",
       "      <td>13.0</td>\n",
       "      <td>Regular customer</td>\n",
       "      <td>Male</td>\n",
       "      <td>Rhode Island</td>\n",
       "      <td>58</td>\n",
       "      <td>1/25/2019</td>\n",
       "      <td>1</td>\n",
       "      <td>married</td>\n",
       "      <td>207497</td>\n",
       "      <td>Northeast</td>\n",
       "    </tr>\n",
       "    <tr>\n",
       "      <th>32307882</th>\n",
       "      <td>32307882</td>\n",
       "      <td>29165920</td>\n",
       "      <td>29165920</td>\n",
       "      <td>20722995</td>\n",
       "      <td>1179092</td>\n",
       "      <td>131671</td>\n",
       "      <td>prior</td>\n",
       "      <td>12</td>\n",
       "      <td>4</td>\n",
       "      <td>9</td>\n",
       "      <td>...</td>\n",
       "      <td>13.0</td>\n",
       "      <td>Regular customer</td>\n",
       "      <td>Female</td>\n",
       "      <td>Rhode Island</td>\n",
       "      <td>35</td>\n",
       "      <td>8/4/2018</td>\n",
       "      <td>0</td>\n",
       "      <td>single</td>\n",
       "      <td>86490</td>\n",
       "      <td>Northeast</td>\n",
       "    </tr>\n",
       "    <tr>\n",
       "      <th>32310810</th>\n",
       "      <td>32310810</td>\n",
       "      <td>29165586</td>\n",
       "      <td>29165586</td>\n",
       "      <td>6224473</td>\n",
       "      <td>1226705</td>\n",
       "      <td>39667</td>\n",
       "      <td>prior</td>\n",
       "      <td>7</td>\n",
       "      <td>2</td>\n",
       "      <td>15</td>\n",
       "      <td>...</td>\n",
       "      <td>23.0</td>\n",
       "      <td>Non-frequent customer</td>\n",
       "      <td>Male</td>\n",
       "      <td>Rhode Island</td>\n",
       "      <td>78</td>\n",
       "      <td>5/8/2019</td>\n",
       "      <td>2</td>\n",
       "      <td>married</td>\n",
       "      <td>195077</td>\n",
       "      <td>Northeast</td>\n",
       "    </tr>\n",
       "    <tr>\n",
       "      <th>32330048</th>\n",
       "      <td>32330048</td>\n",
       "      <td>29165778</td>\n",
       "      <td>29165778</td>\n",
       "      <td>15028700</td>\n",
       "      <td>3000037</td>\n",
       "      <td>95105</td>\n",
       "      <td>prior</td>\n",
       "      <td>2</td>\n",
       "      <td>4</td>\n",
       "      <td>19</td>\n",
       "      <td>...</td>\n",
       "      <td>6.0</td>\n",
       "      <td>Frequent customer</td>\n",
       "      <td>Female</td>\n",
       "      <td>South Carolina</td>\n",
       "      <td>48</td>\n",
       "      <td>1/18/2017</td>\n",
       "      <td>2</td>\n",
       "      <td>married</td>\n",
       "      <td>398880</td>\n",
       "      <td>South</td>\n",
       "    </tr>\n",
       "    <tr>\n",
       "      <th>32330049</th>\n",
       "      <td>32330049</td>\n",
       "      <td>29165779</td>\n",
       "      <td>29165779</td>\n",
       "      <td>15028709</td>\n",
       "      <td>2741225</td>\n",
       "      <td>95105</td>\n",
       "      <td>prior</td>\n",
       "      <td>4</td>\n",
       "      <td>5</td>\n",
       "      <td>12</td>\n",
       "      <td>...</td>\n",
       "      <td>6.0</td>\n",
       "      <td>Frequent customer</td>\n",
       "      <td>Female</td>\n",
       "      <td>South Carolina</td>\n",
       "      <td>48</td>\n",
       "      <td>1/18/2017</td>\n",
       "      <td>2</td>\n",
       "      <td>married</td>\n",
       "      <td>398880</td>\n",
       "      <td>South</td>\n",
       "    </tr>\n",
       "  </tbody>\n",
       "</table>\n",
       "<p>5127 rows × 34 columns</p>\n",
       "</div>"
      ],
      "text/plain": [
       "          Unnamed: 0  Unnamed: 0.1  Unnamed: 0.1.1  Unnamed: 0_x  order_id  \\\n",
       "7805            7805      10030382        10030382        221802   1435153   \n",
       "7806            7806      10030383        10030383        221899   1066435   \n",
       "15143          15143      10030391        10030391        361308   1697208   \n",
       "20264          20264      29165526        29165526        527948    965345   \n",
       "20497          20497      10030408        10030408        569513   2943740   \n",
       "...              ...           ...             ...           ...       ...   \n",
       "32303799    32303799      29165639        29165639       8099400   3265389   \n",
       "32307882    32307882      29165920        29165920      20722995   1179092   \n",
       "32310810    32310810      29165586        29165586       6224473   1226705   \n",
       "32330048    32330048      29165778        29165778      15028700   3000037   \n",
       "32330049    32330049      29165779        29165779      15028709   2741225   \n",
       "\n",
       "          user_id eval_set  order_number  order_dow  order_hour_of_day  ...  \\\n",
       "7805         1519    prior            26          2                 11  ...   \n",
       "7806         1519    prior            32          3                 10  ...   \n",
       "15143        2409    prior            33          1                 19  ...   \n",
       "20264        3531    prior            27          2                 19  ...   \n",
       "20497        3793    prior             1          2                  9  ...   \n",
       "...           ...      ...           ...        ...                ...  ...   \n",
       "32303799    51346    prior             4          1                 17  ...   \n",
       "32307882   131671    prior            12          4                  9  ...   \n",
       "32310810    39667    prior             7          2                 15  ...   \n",
       "32330048    95105    prior             2          4                 19  ...   \n",
       "32330049    95105    prior             4          5                 12  ...   \n",
       "\n",
       "          median_days_since_prior_order  Customer_frequency_flag  Gender  \\\n",
       "7805                                6.0        Frequent customer    Male   \n",
       "7806                                6.0        Frequent customer    Male   \n",
       "15143                               5.0        Frequent customer  Female   \n",
       "20264                               8.0        Frequent customer  Female   \n",
       "20497                              14.0         Regular customer    Male   \n",
       "...                                 ...                      ...     ...   \n",
       "32303799                           13.0         Regular customer    Male   \n",
       "32307882                           13.0         Regular customer  Female   \n",
       "32310810                           23.0    Non-frequent customer    Male   \n",
       "32330048                            6.0        Frequent customer  Female   \n",
       "32330049                            6.0        Frequent customer  Female   \n",
       "\n",
       "                   State Age  date_joined Number_of_dependants  \\\n",
       "7805        Rhode Island  68     3/4/2020                    0   \n",
       "7806        Rhode Island  68     3/4/2020                    0   \n",
       "15143             Hawaii  55   11/11/2018                    2   \n",
       "20264             Hawaii  80    10/6/2019                    2   \n",
       "20497          Louisiana  59    8/23/2019                    3   \n",
       "...                  ...  ..          ...                  ...   \n",
       "32303799    Rhode Island  58    1/25/2019                    1   \n",
       "32307882    Rhode Island  35     8/4/2018                    0   \n",
       "32310810    Rhode Island  78     5/8/2019                    2   \n",
       "32330048  South Carolina  48    1/18/2017                    2   \n",
       "32330049  South Carolina  48    1/18/2017                    2   \n",
       "\n",
       "             Family_status  income     Region  \n",
       "7805      divorced/widowed  177864  Northeast  \n",
       "7806      divorced/widowed  177864  Northeast  \n",
       "15143              married  230074       West  \n",
       "20264              married  233776       West  \n",
       "20497              married  182933      South  \n",
       "...                    ...     ...        ...  \n",
       "32303799           married  207497  Northeast  \n",
       "32307882            single   86490  Northeast  \n",
       "32310810           married  195077  Northeast  \n",
       "32330048           married  398880      South  \n",
       "32330049           married  398880      South  \n",
       "\n",
       "[5127 rows x 34 columns]"
      ]
     },
     "execution_count": 19,
     "metadata": {},
     "output_type": "execute_result"
    }
   ],
   "source": [
    "merged_cust.loc[merged_cust['prices'] > 100]"
   ]
  },
  {
   "cell_type": "code",
   "execution_count": 20,
   "id": "8345cd77",
   "metadata": {},
   "outputs": [],
   "source": [
    "merged_cust.loc[merged_cust['prices'] >100, 'prices'] = np.nan"
   ]
  },
  {
   "cell_type": "markdown",
   "id": "8869b097",
   "metadata": {},
   "source": [
    "3. Comparing customer behavior in different georgraphical areas"
   ]
  },
  {
   "cell_type": "code",
   "execution_count": 8,
   "id": "954ead36",
   "metadata": {},
   "outputs": [
    {
     "name": "stdout",
     "output_type": "stream",
     "text": [
      "['Alabama' 'Indiana' 'Louisiana' 'Montana' 'Oklahoma' 'Tennessee' 'Iowa'\n",
      " 'Ohio' 'Virginia' 'Connecticut' 'Kentucky' 'Oregon' 'South Dakota'\n",
      " 'Michigan' 'New Jersey' 'Arizona' 'Maine' 'Hawaii' 'Minnesota' 'Illinois'\n",
      " 'Idaho' 'Kansas' 'North Carolina' 'Vermont' 'Alaska' 'Delaware'\n",
      " 'Maryland' 'Nebraska' 'Nevada' 'Arkansas' 'Georgia'\n",
      " 'District of Columbia' 'Utah' 'Colorado' 'Florida' 'South Carolina'\n",
      " 'Rhode Island' 'Washington' 'California' 'Mississippi' 'Texas'\n",
      " 'New Mexico' 'Missouri' 'Wyoming' 'New Hampshire' 'Massachusetts'\n",
      " 'Pennsylvania' 'Wisconsin' 'West Virginia' 'North Dakota' 'New York']\n"
     ]
    }
   ],
   "source": [
    "# Checking State list\n",
    "stateslist = merged_cust['State'].unique()\n",
    "print(stateslist)"
   ]
  },
  {
   "cell_type": "code",
   "execution_count": 9,
   "id": "71b389f7",
   "metadata": {},
   "outputs": [],
   "source": [
    "#Creating Region lists\n",
    "Northeast = ['Maine','New Hampshire','Vermont','Massachusetts','Rhode Island','Connecticut','New York','New Jersey','Pennsylvania']\n",
    "Midwest = ['Wisconsin','Michigan','Illinois','Indiana','Ohio','North Dakota','South Dakota','Nebraska','Kansas','Minnesota','Iowa','Missouri']\n",
    "South = ['Delaware','Maryland','District of Columbia','Virginia','West Virginia','North Carolina','South Carolina','Georgia','Florida','Kentucky','Tennessee','Mississippi','Alabama','Oklahoma','Texas','Arkansas','Louisiana']\n",
    "West = ['Idaho','Montana','Wyoming','Nevada','Utah','Colorado','Arizona','New Mexico','Alaska','Washington','Oregon','California','Hawaii']"
   ]
  },
  {
   "cell_type": "code",
   "execution_count": 10,
   "id": "52bcb479",
   "metadata": {},
   "outputs": [],
   "source": [
    "# Adding regions column\n",
    "cond=[merged_cust['State'].isin(Northeast),merged_cust['State'].isin(Midwest),merged_cust['State'].isin(South),merged_cust['State'].isin(West)]\n",
    "values=['Northeast','Midwest','South','West']\n",
    "merged_cust['Region']=np.select(cond,values)"
   ]
  },
  {
   "cell_type": "code",
   "execution_count": 21,
   "id": "32417835",
   "metadata": {},
   "outputs": [
    {
     "data": {
      "image/png": "[encoded data removed]",
      "text/plain": [
       "<Figure size 432x288 with 1 Axes>"
      ]
     },
     "metadata": {
      "needs_background": "light"
     },
     "output_type": "display_data"
    }
   ],
   "source": [
    "# Determining connection between Region and Spending flag\n",
    "line_5 = sns.lineplot(data = merged_cust, x = 'Region',y = 'Spending_flag')"
   ]
  },
  {
   "cell_type": "code",
   "execution_count": 23,
   "id": "82ae2053",
   "metadata": {
    "scrolled": true
   },
   "outputs": [],
   "source": [
    "# Creating crosstab between region and spending flag\n",
    "crosstab = pd.crosstab(merged_cust['Region'], merged_cust['Spending_flag'], dropna = False)"
   ]
  },
  {
   "cell_type": "code",
   "execution_count": 24,
   "id": "a765332b",
   "metadata": {},
   "outputs": [],
   "source": [
    "crosstab.to_clipboard()"
   ]
  },
  {
   "cell_type": "markdown",
   "id": "f4524f29",
   "metadata": {},
   "source": [
    "4. Creating exclusion flag for low activity customers "
   ]
  },
  {
   "cell_type": "code",
   "execution_count": 25,
   "id": "846395b5",
   "metadata": {},
   "outputs": [
    {
     "data": {
      "text/html": [
       "<div>\n",
       "<style scoped>\n",
       "    .dataframe tbody tr th:only-of-type {\n",
       "        vertical-align: middle;\n",
       "    }\n",
       "\n",
       "    .dataframe tbody tr th {\n",
       "        vertical-align: top;\n",
       "    }\n",
       "\n",
       "    .dataframe thead th {\n",
       "        text-align: right;\n",
       "    }\n",
       "</style>\n",
       "<table border=\"1\" class=\"dataframe\">\n",
       "  <thead>\n",
       "    <tr style=\"text-align: right;\">\n",
       "      <th></th>\n",
       "      <th>Unnamed: 0</th>\n",
       "      <th>Unnamed: 0.1</th>\n",
       "      <th>Unnamed: 0.1.1</th>\n",
       "      <th>Unnamed: 0_x</th>\n",
       "      <th>order_id</th>\n",
       "      <th>user_id</th>\n",
       "      <th>eval_set</th>\n",
       "      <th>order_number</th>\n",
       "      <th>order_dow</th>\n",
       "      <th>order_hour_of_day</th>\n",
       "      <th>days_since_prior_order</th>\n",
       "      <th>product_id</th>\n",
       "      <th>add_to_cart_order</th>\n",
       "      <th>reordered</th>\n",
       "      <th>_merge</th>\n",
       "      <th>Unnamed: 0_y</th>\n",
       "      <th>product_name</th>\n",
       "      <th>aisle_id</th>\n",
       "      <th>department_id</th>\n",
       "      <th>prices</th>\n",
       "      <th>max_order</th>\n",
       "      <th>loyalty_flag</th>\n",
       "      <th>mean_price</th>\n",
       "      <th>Spending_flag</th>\n",
       "      <th>median_days_since_prior_order</th>\n",
       "      <th>Customer_frequency_flag</th>\n",
       "      <th>Gender</th>\n",
       "      <th>State</th>\n",
       "      <th>Age</th>\n",
       "      <th>date_joined</th>\n",
       "      <th>Number_of_dependants</th>\n",
       "      <th>Family_status</th>\n",
       "      <th>income</th>\n",
       "      <th>Region</th>\n",
       "    </tr>\n",
       "  </thead>\n",
       "  <tbody>\n",
       "    <tr>\n",
       "      <th>0</th>\n",
       "      <td>0</td>\n",
       "      <td>0</td>\n",
       "      <td>0</td>\n",
       "      <td>0</td>\n",
       "      <td>2539329</td>\n",
       "      <td>1</td>\n",
       "      <td>prior</td>\n",
       "      <td>1</td>\n",
       "      <td>2</td>\n",
       "      <td>8</td>\n",
       "      <td>NaN</td>\n",
       "      <td>196</td>\n",
       "      <td>1</td>\n",
       "      <td>0</td>\n",
       "      <td>both</td>\n",
       "      <td>195</td>\n",
       "      <td>Soda</td>\n",
       "      <td>77</td>\n",
       "      <td>7</td>\n",
       "      <td>9.0</td>\n",
       "      <td>10</td>\n",
       "      <td>New customer</td>\n",
       "      <td>6.367797</td>\n",
       "      <td>Low Spenders</td>\n",
       "      <td>20.5</td>\n",
       "      <td>Non-frequent customer</td>\n",
       "      <td>Female</td>\n",
       "      <td>Alabama</td>\n",
       "      <td>31</td>\n",
       "      <td>2/17/2019</td>\n",
       "      <td>3</td>\n",
       "      <td>married</td>\n",
       "      <td>40423</td>\n",
       "      <td>South</td>\n",
       "    </tr>\n",
       "    <tr>\n",
       "      <th>1</th>\n",
       "      <td>1</td>\n",
       "      <td>1</td>\n",
       "      <td>1</td>\n",
       "      <td>5</td>\n",
       "      <td>2398795</td>\n",
       "      <td>1</td>\n",
       "      <td>prior</td>\n",
       "      <td>2</td>\n",
       "      <td>3</td>\n",
       "      <td>7</td>\n",
       "      <td>15.0</td>\n",
       "      <td>196</td>\n",
       "      <td>1</td>\n",
       "      <td>1</td>\n",
       "      <td>both</td>\n",
       "      <td>195</td>\n",
       "      <td>Soda</td>\n",
       "      <td>77</td>\n",
       "      <td>7</td>\n",
       "      <td>9.0</td>\n",
       "      <td>10</td>\n",
       "      <td>New customer</td>\n",
       "      <td>6.367797</td>\n",
       "      <td>Low Spenders</td>\n",
       "      <td>20.5</td>\n",
       "      <td>Non-frequent customer</td>\n",
       "      <td>Female</td>\n",
       "      <td>Alabama</td>\n",
       "      <td>31</td>\n",
       "      <td>2/17/2019</td>\n",
       "      <td>3</td>\n",
       "      <td>married</td>\n",
       "      <td>40423</td>\n",
       "      <td>South</td>\n",
       "    </tr>\n",
       "    <tr>\n",
       "      <th>2</th>\n",
       "      <td>2</td>\n",
       "      <td>2</td>\n",
       "      <td>2</td>\n",
       "      <td>11</td>\n",
       "      <td>473747</td>\n",
       "      <td>1</td>\n",
       "      <td>prior</td>\n",
       "      <td>3</td>\n",
       "      <td>3</td>\n",
       "      <td>12</td>\n",
       "      <td>21.0</td>\n",
       "      <td>196</td>\n",
       "      <td>1</td>\n",
       "      <td>1</td>\n",
       "      <td>both</td>\n",
       "      <td>195</td>\n",
       "      <td>Soda</td>\n",
       "      <td>77</td>\n",
       "      <td>7</td>\n",
       "      <td>9.0</td>\n",
       "      <td>10</td>\n",
       "      <td>New customer</td>\n",
       "      <td>6.367797</td>\n",
       "      <td>Low Spenders</td>\n",
       "      <td>20.5</td>\n",
       "      <td>Non-frequent customer</td>\n",
       "      <td>Female</td>\n",
       "      <td>Alabama</td>\n",
       "      <td>31</td>\n",
       "      <td>2/17/2019</td>\n",
       "      <td>3</td>\n",
       "      <td>married</td>\n",
       "      <td>40423</td>\n",
       "      <td>South</td>\n",
       "    </tr>\n",
       "    <tr>\n",
       "      <th>3</th>\n",
       "      <td>3</td>\n",
       "      <td>3</td>\n",
       "      <td>3</td>\n",
       "      <td>16</td>\n",
       "      <td>2254736</td>\n",
       "      <td>1</td>\n",
       "      <td>prior</td>\n",
       "      <td>4</td>\n",
       "      <td>4</td>\n",
       "      <td>7</td>\n",
       "      <td>29.0</td>\n",
       "      <td>196</td>\n",
       "      <td>1</td>\n",
       "      <td>1</td>\n",
       "      <td>both</td>\n",
       "      <td>195</td>\n",
       "      <td>Soda</td>\n",
       "      <td>77</td>\n",
       "      <td>7</td>\n",
       "      <td>9.0</td>\n",
       "      <td>10</td>\n",
       "      <td>New customer</td>\n",
       "      <td>6.367797</td>\n",
       "      <td>Low Spenders</td>\n",
       "      <td>20.5</td>\n",
       "      <td>Non-frequent customer</td>\n",
       "      <td>Female</td>\n",
       "      <td>Alabama</td>\n",
       "      <td>31</td>\n",
       "      <td>2/17/2019</td>\n",
       "      <td>3</td>\n",
       "      <td>married</td>\n",
       "      <td>40423</td>\n",
       "      <td>South</td>\n",
       "    </tr>\n",
       "    <tr>\n",
       "      <th>4</th>\n",
       "      <td>4</td>\n",
       "      <td>4</td>\n",
       "      <td>4</td>\n",
       "      <td>21</td>\n",
       "      <td>431534</td>\n",
       "      <td>1</td>\n",
       "      <td>prior</td>\n",
       "      <td>5</td>\n",
       "      <td>4</td>\n",
       "      <td>15</td>\n",
       "      <td>28.0</td>\n",
       "      <td>196</td>\n",
       "      <td>1</td>\n",
       "      <td>1</td>\n",
       "      <td>both</td>\n",
       "      <td>195</td>\n",
       "      <td>Soda</td>\n",
       "      <td>77</td>\n",
       "      <td>7</td>\n",
       "      <td>9.0</td>\n",
       "      <td>10</td>\n",
       "      <td>New customer</td>\n",
       "      <td>6.367797</td>\n",
       "      <td>Low Spenders</td>\n",
       "      <td>20.5</td>\n",
       "      <td>Non-frequent customer</td>\n",
       "      <td>Female</td>\n",
       "      <td>Alabama</td>\n",
       "      <td>31</td>\n",
       "      <td>2/17/2019</td>\n",
       "      <td>3</td>\n",
       "      <td>married</td>\n",
       "      <td>40423</td>\n",
       "      <td>South</td>\n",
       "    </tr>\n",
       "  </tbody>\n",
       "</table>\n",
       "</div>"
      ],
      "text/plain": [
       "   Unnamed: 0  Unnamed: 0.1  Unnamed: 0.1.1  Unnamed: 0_x  order_id  user_id  \\\n",
       "0           0             0               0             0   2539329        1   \n",
       "1           1             1               1             5   2398795        1   \n",
       "2           2             2               2            11    473747        1   \n",
       "3           3             3               3            16   2254736        1   \n",
       "4           4             4               4            21    431534        1   \n",
       "\n",
       "  eval_set  order_number  order_dow  order_hour_of_day  \\\n",
       "0    prior             1          2                  8   \n",
       "1    prior             2          3                  7   \n",
       "2    prior             3          3                 12   \n",
       "3    prior             4          4                  7   \n",
       "4    prior             5          4                 15   \n",
       "\n",
       "   days_since_prior_order  product_id  add_to_cart_order  reordered _merge  \\\n",
       "0                     NaN         196                  1          0   both   \n",
       "1                    15.0         196                  1          1   both   \n",
       "2                    21.0         196                  1          1   both   \n",
       "3                    29.0         196                  1          1   both   \n",
       "4                    28.0         196                  1          1   both   \n",
       "\n",
       "   Unnamed: 0_y product_name  aisle_id  department_id  prices  max_order  \\\n",
       "0           195         Soda        77              7     9.0         10   \n",
       "1           195         Soda        77              7     9.0         10   \n",
       "2           195         Soda        77              7     9.0         10   \n",
       "3           195         Soda        77              7     9.0         10   \n",
       "4           195         Soda        77              7     9.0         10   \n",
       "\n",
       "   loyalty_flag  mean_price Spending_flag  median_days_since_prior_order  \\\n",
       "0  New customer    6.367797  Low Spenders                           20.5   \n",
       "1  New customer    6.367797  Low Spenders                           20.5   \n",
       "2  New customer    6.367797  Low Spenders                           20.5   \n",
       "3  New customer    6.367797  Low Spenders                           20.5   \n",
       "4  New customer    6.367797  Low Spenders                           20.5   \n",
       "\n",
       "  Customer_frequency_flag  Gender    State  Age date_joined  \\\n",
       "0   Non-frequent customer  Female  Alabama   31   2/17/2019   \n",
       "1   Non-frequent customer  Female  Alabama   31   2/17/2019   \n",
       "2   Non-frequent customer  Female  Alabama   31   2/17/2019   \n",
       "3   Non-frequent customer  Female  Alabama   31   2/17/2019   \n",
       "4   Non-frequent customer  Female  Alabama   31   2/17/2019   \n",
       "\n",
       "   Number_of_dependants Family_status  income Region  \n",
       "0                     3       married   40423  South  \n",
       "1                     3       married   40423  South  \n",
       "2                     3       married   40423  South  \n",
       "3                     3       married   40423  South  \n",
       "4                     3       married   40423  South  "
      ]
     },
     "execution_count": 25,
     "metadata": {},
     "output_type": "execute_result"
    }
   ],
   "source": [
    "#Checking the dataframe columns output\n",
    "pd.set_option('display.max_columns', None)\n",
    "merged_cust.head()"
   ]
  },
  {
   "cell_type": "code",
   "execution_count": 30,
   "id": "f7748e34",
   "metadata": {},
   "outputs": [],
   "source": [
    "#Creating activity flag - low activity customers\n",
    "merged_cust.loc[merged_cust['max_order'] < 5, 'customer_activity_flag'] = 'Low activity customer'"
   ]
  },
  {
   "cell_type": "code",
   "execution_count": 31,
   "id": "f1f80089",
   "metadata": {},
   "outputs": [],
   "source": [
    "#Creating activity flag - high activity customers\n",
    "merged_cust.loc[merged_cust['max_order'] >= 5, 'customer_activity_flag'] = 'High activity customer'"
   ]
  },
  {
   "cell_type": "code",
   "execution_count": 32,
   "id": "1d2e9cad",
   "metadata": {},
   "outputs": [
    {
     "data": {
      "text/plain": [
       "High activity customer    30964564\n",
       "Low activity customer      1440295\n",
       "Name: customer_activity_flag, dtype: int64"
      ]
     },
     "execution_count": 32,
     "metadata": {},
     "output_type": "execute_result"
    }
   ],
   "source": [
    "#Cheecking the count\n",
    "merged_cust['customer_activity_flag'].value_counts(dropna = False)"
   ]
  },
  {
   "cell_type": "code",
   "execution_count": 29,
   "id": "93ae7312",
   "metadata": {},
   "outputs": [],
   "source": [
    "#Exporting data\n",
    "merged_cust.to_csv(os.path.join(path, '02 Data', 'Prepared Data', 'merged_cust_activity_flag.csv'))"
   ]
  },
  {
   "cell_type": "markdown",
   "id": "6e7d8d1f",
   "metadata": {},
   "source": [
    "5. Creating Profiling variables"
   ]
  },
  {
   "cell_type": "code",
   "execution_count": 34,
   "id": "4c83cb8b",
   "metadata": {},
   "outputs": [],
   "source": [
    "#Create age range\n",
    "merged_cust.loc[(merged_cust['Age'] >= 18) & (merged_cust['Age'] <= 24), 'Age_group'] = '18-24'\n",
    "merged_cust.loc[(merged_cust['Age'] >= 25) & (merged_cust['Age'] <= 40), 'Age_group'] = '25-40'\n",
    "merged_cust.loc[(merged_cust['Age'] >= 41) & (merged_cust['Age'] <= 56), 'Age_group'] = '41-56'\n",
    "merged_cust.loc[(merged_cust['Age'] >= 57) & (merged_cust['Age'] <= 75), 'Age_group'] = '57-75'\n",
    "merged_cust.loc[merged_cust['Age'] > 75, 'Age_group'] = 'over_75'"
   ]
  },
  {
   "cell_type": "code",
   "execution_count": 35,
   "id": "c608c8cc",
   "metadata": {},
   "outputs": [],
   "source": [
    "#Create age range\n",
    "merged_cust.loc[(merged_cust['income'] >= 0) & (merged_cust['income'] < 50000), 'Income_group'] = '0-50000'\n",
    "merged_cust.loc[(merged_cust['income'] >= 50000) & (merged_cust['income'] < 75000), 'Income_group'] = '50000-75000'\n",
    "merged_cust.loc[(merged_cust['income'] >= 75000) & (merged_cust['income'] < 100000), 'Income_group'] = '75000-100000'\n",
    "merged_cust.loc[(merged_cust['income'] >= 100000) & (merged_cust['income'] <= 150000), 'Income_group'] = '100000-150000'\n",
    "merged_cust.loc[merged_cust['income'] > 150000, 'Income_group'] = 'over_150000'"
   ]
  },
  {
   "cell_type": "code",
   "execution_count": 36,
   "id": "e94da8a9",
   "metadata": {},
   "outputs": [
    {
     "name": "stdout",
     "output_type": "stream",
     "text": [
      "[     1      2      3 ... 206207 206208 206209]\n"
     ]
    }
   ],
   "source": [
    "#Ascertaining unique user_ids \n",
    "userlist = merged_cust['user_id'].unique()\n",
    "userlist.sort()\n",
    "print(userlist)"
   ]
  },
  {
   "cell_type": "code",
   "execution_count": 37,
   "id": "57f19162",
   "metadata": {},
   "outputs": [
    {
     "data": {
      "text/plain": [
       "Age_group\n",
       "18-24      22560\n",
       "25-40      51404\n",
       "41-56      51983\n",
       "57-75      60821\n",
       "over_75    19441\n",
       "Name: user_id, dtype: int64"
      ]
     },
     "execution_count": 37,
     "metadata": {},
     "output_type": "execute_result"
    }
   ],
   "source": [
    "#Count of age group by user\n",
    "merged_cust.groupby('Age_group')['user_id'].nunique()"
   ]
  },
  {
   "cell_type": "code",
   "execution_count": 40,
   "id": "a645c7fe",
   "metadata": {},
   "outputs": [
    {
     "data": {
      "image/png": "[encoded data removed]",
      "text/plain": [
       "<Figure size 432x288 with 1 Axes>"
      ]
     },
     "metadata": {
      "needs_background": "light"
     },
     "output_type": "display_data"
    }
   ],
   "source": [
    "# Visualization of user by age group\n",
    "Age_group_bar = merged_cust['Age_group'].value_counts().plot.bar()\n",
    "Age_group_bar.figure.savefig(os.path.join(path, '04 Analysis','Visualizations', 'Age_group_bar.png'))"
   ]
  },
  {
   "cell_type": "code",
   "execution_count": 41,
   "id": "bb088c4e",
   "metadata": {},
   "outputs": [
    {
     "data": {
      "image/png": "[encoded data removed]",
      "text/plain": [
       "<Figure size 432x288 with 1 Axes>"
      ]
     },
     "metadata": {
      "needs_background": "light"
     },
     "output_type": "display_data"
    }
   ],
   "source": [
    "# Visualization of prices by age group\n",
    "Age_group_prices_bar = merged_cust.groupby(['Age_group'])['prices'].agg('sum').plot.bar()\n",
    "Age_group_prices_bar.figure.savefig(os.path.join(path, '04 Analysis','Visualizations', 'Prices_age_group_bar.png'))"
   ]
  },
  {
   "cell_type": "code",
   "execution_count": 42,
   "id": "1a43491f",
   "metadata": {},
   "outputs": [
    {
     "data": {
      "text/plain": [
       "Income_group\n",
       "0-50000          34105\n",
       "100000-150000    64007\n",
       "50000-75000      42749\n",
       "75000-100000     42097\n",
       "over_150000      23251\n",
       "Name: user_id, dtype: int64"
      ]
     },
     "execution_count": 42,
     "metadata": {},
     "output_type": "execute_result"
    }
   ],
   "source": [
    "#Count of Income group by user\n",
    "merged_cust.groupby('Income_group')['user_id'].nunique()"
   ]
  },
  {
   "cell_type": "code",
   "execution_count": 43,
   "id": "5b922454",
   "metadata": {},
   "outputs": [
    {
     "data": {
      "image/png": "[encoded data removed]",
      "text/plain": [
       "<Figure size 432x288 with 1 Axes>"
      ]
     },
     "metadata": {
      "needs_background": "light"
     },
     "output_type": "display_data"
    }
   ],
   "source": [
    "# Visulization of unique users by Income group\n",
    "Income_group_bar = merged_cust.groupby('Income_group')['user_id'].nunique().plot.bar()\n",
    "Income_group_bar.figure.savefig(os.path.join(path, '04 Analysis','Visualizations', 'Income_group_bar.png'))"
   ]
  },
  {
   "cell_type": "code",
   "execution_count": 44,
   "id": "9384102e",
   "metadata": {},
   "outputs": [
    {
     "data": {
      "image/png": "[encoded data removed]",
      "text/plain": [
       "<Figure size 432x288 with 1 Axes>"
      ]
     },
     "metadata": {
      "needs_background": "light"
     },
     "output_type": "display_data"
    }
   ],
   "source": [
    "# Visulization of unique users by sales\n",
    "Income_sales_bar = merged_cust.groupby('Income_group')['prices'].nunique().plot.bar()\n",
    "Income_sales_bar.figure.savefig(os.path.join(path, '04 Analysis','Visualizations', 'Income_sales_bar.png'))"
   ]
  },
  {
   "cell_type": "code",
   "execution_count": 45,
   "id": "7fe11615",
   "metadata": {},
   "outputs": [
    {
     "data": {
      "text/plain": [
       "Income_group\n",
       "0-50000          239\n",
       "100000-150000    240\n",
       "50000-75000      240\n",
       "75000-100000     239\n",
       "over_150000      238\n",
       "Name: prices, dtype: int64"
      ]
     },
     "execution_count": 45,
     "metadata": {},
     "output_type": "execute_result"
    }
   ],
   "source": [
    "#Count of Income group by sales\n",
    "merged_cust.groupby('Income_group')['prices'].nunique()"
   ]
  },
  {
   "cell_type": "code",
   "execution_count": 46,
   "id": "06092a37",
   "metadata": {},
   "outputs": [
    {
     "data": {
      "text/plain": [
       "Family_status\n",
       "divorced/widowed                     17640\n",
       "living with parents and siblings      9701\n",
       "married                             144906\n",
       "single                               33962\n",
       "Name: user_id, dtype: int64"
      ]
     },
     "execution_count": 46,
     "metadata": {},
     "output_type": "execute_result"
    }
   ],
   "source": [
    "# Identifying family status\n",
    "merged_cust.groupby('Family_status')['user_id'].nunique()"
   ]
  },
  {
   "cell_type": "code",
   "execution_count": 48,
   "id": "068c3db5",
   "metadata": {},
   "outputs": [
    {
     "data": {
      "image/png": "[encoded data removed]",
      "text/plain": [
       "<Figure size 432x288 with 1 Axes>"
      ]
     },
     "metadata": {
      "needs_background": "light"
     },
     "output_type": "display_data"
    }
   ],
   "source": [
    "#Visualization of sales by family status\n",
    "Family_status_bar = merged_cust.groupby('Family_status')['prices'].agg('sum').plot.bar()\n",
    "Family_status_bar.figure.savefig(os.path.join(path, '04 Analysis','Visualizations', 'Family_status_bar.png'))"
   ]
  },
  {
   "cell_type": "code",
   "execution_count": 51,
   "id": "287e44a7",
   "metadata": {},
   "outputs": [],
   "source": [
    "#Creating customer profiles\n",
    "\n",
    "merged_cust.loc[(merged_cust['Family_status'] == 'single') & (merged_cust['Number_of_dependants'] == 0 ), 'Customer_profile'] = 'Single with no dependants'\n",
    "merged_cust.loc[(merged_cust['Family_status'] == 'single') & (merged_cust['Number_of_dependants'] >=1 ), 'Customer_profile'] = 'Single with dependants'\n",
    "\n",
    "merged_cust.loc[(merged_cust['Age'] <= 40) & (merged_cust['Number_of_dependants'] >=1 ), 'Customer_profile'] = 'Young parent' \n",
    "merged_cust.loc[(merged_cust['Age'] > 40) & (merged_cust['Number_of_dependants'] >=1 ), 'Customer_profile'] = 'Older parent'\n",
    "\n",
    "merged_cust.loc[(merged_cust['Age'] >= 57) & (merged_cust['Age'] <= 75), 'Customer_profile'] = 'Early retiree'\n",
    "merged_cust.loc[merged_cust['Age'] > 75, 'Customer_profile'] = 'Older retiree'\n",
    "\n",
    "merged_cust.loc[merged_cust['income'] > 150000, 'Customer_profile'] = 'High earner >150k'\n",
    "\n",
    "merged_cust.loc[(merged_cust['Family_status'] == 'married') & (merged_cust['Number_of_dependants'] >=1 ) & (merged_cust['income'] >= 0) & (merged_cust['income'] < 75000), 'Customer_profile'] = 'Married,low,middle income with dependants'\n",
    "merged_cust.loc[(merged_cust['Family_status'] == 'married') & (merged_cust['Number_of_dependants'] >=1 ) & (merged_cust['income'] >= 75000) & (merged_cust['income'] < 150000), 'Customer_profile'] = 'Married, middle,high income with dependnats'\n",
    "merged_cust.loc[(merged_cust['Family_status'] == 'married') & (merged_cust['Number_of_dependants'] >=1 ) & (merged_cust['income'] > 150000), 'Customer_profile'] = 'Married, high income with dep'\n",
    "\n",
    "merged_cust.loc[(merged_cust['Family_status'] == 'married') & (merged_cust['Number_of_dependants'] == 0 ) & (merged_cust['income'] >= 0) & (merged_cust['income'] < 75000), 'Customer_profile'] = 'Married,low,middle income no dependants'\n",
    "merged_cust.loc[(merged_cust['Family_status'] == 'married') & (merged_cust['Number_of_dependants'] == 0 ) & (merged_cust['income'] >= 75000) & (merged_cust['income'] < 150000), 'Customer_profile'] = 'Married,middle,high income no dependants'\n",
    "merged_cust.loc[(merged_cust['Family_status'] == 'married') & (merged_cust['Number_of_dependants'] == 0 ) & (merged_cust['income'] > 150000), 'Customer_profile'] = 'Married,high income no dependants'"
   ]
  },
  {
   "cell_type": "code",
   "execution_count": 52,
   "id": "07446304",
   "metadata": {},
   "outputs": [
    {
     "data": {
      "text/plain": [
       "Customer_profile\n",
       "Married, middle,high income with dependnats    76209\n",
       "Married,low,middle income with dependants      51323\n",
       "Single with no dependants                      29162\n",
       "Married, high income with dep                  17372\n",
       "Early retiree                                  12589\n",
       "Young parent                                    9652\n",
       "High earner >150k                               5879\n",
       "Older retiree                                   4021\n",
       "Older parent                                       2\n",
       "Name: user_id, dtype: int64"
      ]
     },
     "execution_count": 52,
     "metadata": {},
     "output_type": "execute_result"
    }
   ],
   "source": [
    "# Customer profile Count\n",
    "merged_cust.groupby('Customer_profile')['user_id'].nunique().sort_values(ascending=False)"
   ]
  },
  {
   "cell_type": "code",
   "execution_count": 54,
   "id": "6dc30b0a",
   "metadata": {},
   "outputs": [
    {
     "data": {
      "image/png": "[encoded data removed]",
      "text/plain": [
       "<Figure size 432x288 with 1 Axes>"
      ]
     },
     "metadata": {
      "needs_background": "light"
     },
     "output_type": "display_data"
    }
   ],
   "source": [
    "# Visualization of customer profile\n",
    "Customer_profile_bar = merged_cust.groupby('Customer_profile')['user_id'].nunique().sort_values(ascending=False).plot.bar()\n",
    "Customer_profile_bar.figure.savefig(os.path.join(path, '04 Analysis','Visualizations', 'Customer_profile_bar.png'))"
   ]
  },
  {
   "cell_type": "code",
   "execution_count": 55,
   "id": "e7f2cb6a",
   "metadata": {},
   "outputs": [
    {
     "data": {
      "text/plain": [
       "Customer_profile\n",
       "Married, middle,high income with dependnats    102393549.0\n",
       "Married,low,middle income with dependants       51029707.0\n",
       "Single with no dependants                       34980366.0\n",
       "Married, high income with dep                   23837260.0\n",
       "Early retiree                                   15055375.0\n",
       "Young parent                                    11974598.0\n",
       "High earner >150k                                8324133.0\n",
       "Older retiree                                    4829544.0\n",
       "Older parent                                        1589.0\n",
       "Name: prices, dtype: float64"
      ]
     },
     "execution_count": 55,
     "metadata": {},
     "output_type": "execute_result"
    }
   ],
   "source": [
    "# Revenue by Customer profile\n",
    "round(merged_cust.groupby(['Customer_profile'])['prices'].agg('sum').sort_values(ascending=False),0)"
   ]
  },
  {
   "cell_type": "code",
   "execution_count": 56,
   "id": "ee0a91a6",
   "metadata": {},
   "outputs": [
    {
     "data": {
      "image/png": "[encoded data removed]",
      "text/plain": [
       "<Figure size 432x288 with 1 Axes>"
      ]
     },
     "metadata": {
      "needs_background": "light"
     },
     "output_type": "display_data"
    }
   ],
   "source": [
    "# Visualization and export of Revenue by customer profile\n",
    "Customer_profile_sales_bar = round(merged_cust.groupby(['Customer_profile'])['prices'].agg('sum').sort_values(ascending=False),0).plot.bar()\n",
    "Customer_profile_sales_bar.figure.savefig(os.path.join(path, '04 Analysis','Visualizations', 'Customer_profile_sales_bar_1902.png'))"
   ]
  },
  {
   "cell_type": "markdown",
   "id": "432679d4",
   "metadata": {},
   "source": [
    "7. Aggregation of descriptive statistics of customer profile"
   ]
  },
  {
   "cell_type": "code",
   "execution_count": 57,
   "id": "1a211881",
   "metadata": {},
   "outputs": [
    {
     "data": {
      "text/html": [
       "<div>\n",
       "<style scoped>\n",
       "    .dataframe tbody tr th:only-of-type {\n",
       "        vertical-align: middle;\n",
       "    }\n",
       "\n",
       "    .dataframe tbody tr th {\n",
       "        vertical-align: top;\n",
       "    }\n",
       "\n",
       "    .dataframe thead tr th {\n",
       "        text-align: left;\n",
       "    }\n",
       "\n",
       "    .dataframe thead tr:last-of-type th {\n",
       "        text-align: right;\n",
       "    }\n",
       "</style>\n",
       "<table border=\"1\" class=\"dataframe\">\n",
       "  <thead>\n",
       "    <tr>\n",
       "      <th></th>\n",
       "      <th colspan=\"3\" halign=\"left\">prices</th>\n",
       "    </tr>\n",
       "    <tr>\n",
       "      <th></th>\n",
       "      <th>mean</th>\n",
       "      <th>min</th>\n",
       "      <th>max</th>\n",
       "    </tr>\n",
       "    <tr>\n",
       "      <th>Customer_profile</th>\n",
       "      <th></th>\n",
       "      <th></th>\n",
       "      <th></th>\n",
       "    </tr>\n",
       "  </thead>\n",
       "  <tbody>\n",
       "    <tr>\n",
       "      <th>Early retiree</th>\n",
       "      <td>7.763784</td>\n",
       "      <td>1.0</td>\n",
       "      <td>25.0</td>\n",
       "    </tr>\n",
       "    <tr>\n",
       "      <th>High earner &gt;150k</th>\n",
       "      <td>7.935492</td>\n",
       "      <td>1.0</td>\n",
       "      <td>25.0</td>\n",
       "    </tr>\n",
       "    <tr>\n",
       "      <th>Married, high income with dep</th>\n",
       "      <td>7.951057</td>\n",
       "      <td>1.0</td>\n",
       "      <td>25.0</td>\n",
       "    </tr>\n",
       "    <tr>\n",
       "      <th>Married, middle,high income with dependnats</th>\n",
       "      <td>7.962456</td>\n",
       "      <td>1.0</td>\n",
       "      <td>25.0</td>\n",
       "    </tr>\n",
       "    <tr>\n",
       "      <th>Married,low,middle income with dependants</th>\n",
       "      <td>7.400645</td>\n",
       "      <td>1.0</td>\n",
       "      <td>25.0</td>\n",
       "    </tr>\n",
       "    <tr>\n",
       "      <th>Older parent</th>\n",
       "      <td>7.675362</td>\n",
       "      <td>1.1</td>\n",
       "      <td>14.8</td>\n",
       "    </tr>\n",
       "    <tr>\n",
       "      <th>Older retiree</th>\n",
       "      <td>7.773877</td>\n",
       "      <td>1.0</td>\n",
       "      <td>25.0</td>\n",
       "    </tr>\n",
       "    <tr>\n",
       "      <th>Single with no dependants</th>\n",
       "      <td>7.770186</td>\n",
       "      <td>1.0</td>\n",
       "      <td>25.0</td>\n",
       "    </tr>\n",
       "    <tr>\n",
       "      <th>Young parent</th>\n",
       "      <td>7.799014</td>\n",
       "      <td>1.0</td>\n",
       "      <td>25.0</td>\n",
       "    </tr>\n",
       "  </tbody>\n",
       "</table>\n",
       "</div>"
      ],
      "text/plain": [
       "                                               prices           \n",
       "                                                 mean  min   max\n",
       "Customer_profile                                                \n",
       "Early retiree                                7.763784  1.0  25.0\n",
       "High earner >150k                            7.935492  1.0  25.0\n",
       "Married, high income with dep                7.951057  1.0  25.0\n",
       "Married, middle,high income with dependnats  7.962456  1.0  25.0\n",
       "Married,low,middle income with dependants    7.400645  1.0  25.0\n",
       "Older parent                                 7.675362  1.1  14.8\n",
       "Older retiree                                7.773877  1.0  25.0\n",
       "Single with no dependants                    7.770186  1.0  25.0\n",
       "Young parent                                 7.799014  1.0  25.0"
      ]
     },
     "execution_count": 57,
     "metadata": {},
     "output_type": "execute_result"
    }
   ],
   "source": [
    "# Aggregation of mean, max, min of Customer profile\n",
    "merged_cust.groupby('Customer_profile').agg({'prices': ['mean', 'min', 'max']})"
   ]
  },
  {
   "cell_type": "markdown",
   "id": "0feb05c5",
   "metadata": {},
   "source": [
    "8. Comparing Customer profile with variables"
   ]
  },
  {
   "cell_type": "code",
   "execution_count": null,
   "id": "639ae86b",
   "metadata": {},
   "outputs": [],
   "source": [
    "# Comparing customer profiles with department\n",
    "pivot_Customer_profile_dept = np.round(merged_cust_dept.pivot_table(index='department', columns='Customer_profile', values='prices', aggfunc='sum',margins = True,margins_name = 'Total'),0)\n",
    "print(pivot_Customer_profile_dept)\n",
    "pivot_Customer_profile_dept.to_clipboard()"
   ]
  },
  {
   "cell_type": "code",
   "execution_count": 70,
   "id": "a23abf85",
   "metadata": {},
   "outputs": [
    {
     "name": "stdout",
     "output_type": "stream",
     "text": [
      "Region                                          Midwest   Northeast  \\\n",
      "Customer_profile                                                      \n",
      "Early retiree                                 3563220.0   2719356.0   \n",
      "High earner >150k                             1896779.0   1438272.0   \n",
      "Married, high income with dep                 5677297.0   4179167.0   \n",
      "Married, middle,high income with dependnats  23865774.0  18392815.0   \n",
      "Married,low,middle income with dependants    11938705.0   8835260.0   \n",
      "Older parent                                        NaN       390.0   \n",
      "Older retiree                                 1168992.0    845302.0   \n",
      "Single with no dependants                     8238077.0   6044476.0   \n",
      "Young parent                                  2844133.0   2075068.0   \n",
      "Total                                        59192978.0  44530106.0   \n",
      "\n",
      "Region                                            South        West  \\\n",
      "Customer_profile                                                      \n",
      "Early retiree                                 5008870.0   3763930.0   \n",
      "High earner >150k                             2808338.0   2180743.0   \n",
      "Married, high income with dep                 7854715.0   6126081.0   \n",
      "Married, middle,high income with dependnats  34095488.0  26039471.0   \n",
      "Married,low,middle income with dependants    16967244.0  13288498.0   \n",
      "Older parent                                     1199.0         NaN   \n",
      "Older retiree                                 1548719.0   1266532.0   \n",
      "Single with no dependants                    11755865.0   8941948.0   \n",
      "Young parent                                  4067472.0   2987925.0   \n",
      "Total                                        84107910.0  64595127.0   \n",
      "\n",
      "Region                                             Total  \n",
      "Customer_profile                                          \n",
      "Early retiree                                 15055375.0  \n",
      "High earner >150k                              8324133.0  \n",
      "Married, high income with dep                 23837260.0  \n",
      "Married, middle,high income with dependnats  102393549.0  \n",
      "Married,low,middle income with dependants     51029707.0  \n",
      "Older parent                                      1589.0  \n",
      "Older retiree                                  4829544.0  \n",
      "Single with no dependants                     34980366.0  \n",
      "Young parent                                  11974598.0  \n",
      "Total                                        252426121.0  \n"
     ]
    }
   ],
   "source": [
    "# Comparing Customer profiles with regions\n",
    "pivot_Customer_profile_region = np.round(merged_cust.pivot_table(index='Customer_profile', columns='Region', values='prices', aggfunc='sum',margins = True,margins_name = 'Total'),0)\n",
    "print(pivot_Customer_profile_region)\n",
    "pivot_Customer_profile_region.to_clipboard()"
   ]
  },
  {
   "cell_type": "markdown",
   "id": "b702c74d",
   "metadata": {},
   "source": [
    "9. Illustrating results with suitable charts"
   ]
  },
  {
   "cell_type": "code",
   "execution_count": 18,
   "id": "f8f1b21f",
   "metadata": {},
   "outputs": [
    {
     "data": {
      "image/png": "[encoded data removed]",
      "text/plain": [
       "<Figure size 432x288 with 1 Axes>"
      ]
     },
     "metadata": {
      "needs_background": "light"
     },
     "output_type": "display_data"
    }
   ],
   "source": [
    "# Visualization and export of Days of the week'\n",
    "busy_days_bar = merged_cust['order_dow'].value_counts().sort_index().plot.bar()\n",
    "busy_days_bar.figure.savefig(os.path.join(path, '04 Analysis','Visualizations', 'busy_days_bar.png'))"
   ]
  },
  {
   "cell_type": "code",
   "execution_count": 108,
   "id": "6131af29",
   "metadata": {},
   "outputs": [
    {
     "name": "stdout",
     "output_type": "stream",
     "text": [
      "Region           Midwest  Northeast    South     West\n",
      "department                                           \n",
      "alcohol            36186      26542    51624    39344\n",
      "babies             98983      75139   143654   106026\n",
      "bakery            273869     208599   388815   301145\n",
      "beverages         625574     483418   898940   680191\n",
      "breakfast         163551     123574   234251   181657\n",
      "bulk                8193       5802    11533     9045\n",
      "canned goods      250702     186755   356015   274586\n",
      "dairy eggs       1264223     954026  1796969  1383529\n",
      "deli              245678     186817   349419   269335\n",
      "dry goods pasta   203769     151816   287444   223598\n",
      "frozen            524096     390918   747900   571829\n",
      "household         175824     131485   243070   188287\n",
      "international      63736      46891    89142    69484\n",
      "meat seafood      166129     124620   235752   182426\n",
      "missing            16535      12374    23193    17043\n",
      "other               8420       6585    12212     9074\n",
      "pantry            442101     329445   622436   481387\n",
      "personal care     105749      78815   150350   112658\n",
      "pets               22355      18601    31269    25491\n",
      "produce          2227937    1665839  3160551  2424964\n",
      "snacks            673715     514675   957346   741814\n"
     ]
    }
   ],
   "source": [
    "# Regional customer habit\n",
    "crosstab_department_region = pd.crosstab(merged_cust_dept['department'], merged_cust_dept['Region'], dropna = False)\n",
    "print(crosstab_department_region)"
   ]
  },
  {
   "cell_type": "code",
   "execution_count": 109,
   "id": "61c78f6c",
   "metadata": {},
   "outputs": [
    {
     "data": {
      "image/png": "[encoded data removed]",
      "text/plain": [
       "<Figure size 432x288 with 1 Axes>"
      ]
     },
     "metadata": {
      "needs_background": "light"
     },
     "output_type": "display_data"
    }
   ],
   "source": [
    "# Sacked bar of department & region\n",
    "department_region_bar = crosstab_department_region.plot(kind = 'bar', stacked = True)\n",
    "plt.tight_layout()\n",
    "department_region_bar.figure.savefig(os.path.join(path, '04 Analysis','Visualizations', 'department_region_bar.png'))"
   ]
  },
  {
   "cell_type": "code",
   "execution_count": 106,
   "id": "0e23fbdb",
   "metadata": {},
   "outputs": [
    {
     "data": {
      "image/png": "[encoded data removed]",
      "text/plain": [
       "<Figure size 432x288 with 1 Axes>"
      ]
     },
     "metadata": {
      "needs_background": "light"
     },
     "output_type": "display_data"
    }
   ],
   "source": [
    "# Visualizing the description of department by orders\n",
    "product_orders_bar = round(merged_cust_dept.groupby(['department'])['order_id'].agg('count').sort_values(ascending=False),0).plot.bar()\n",
    "product_orders_bar.figure.savefig(os.path.join(path, '04 Analysis','Visualizations', 'product_orders_bar.png'))"
   ]
  },
  {
   "cell_type": "code",
   "execution_count": 5,
   "id": "6b81d9d3",
   "metadata": {},
   "outputs": [],
   "source": [
    "df = pd.read_csv(os.path.join(path, '02 Data', 'Original Data ', 'orders.csv'), index_col = False)"
   ]
  },
  {
   "cell_type": "code",
   "execution_count": 6,
   "id": "c6883657",
   "metadata": {},
   "outputs": [
    {
     "data": {
      "text/plain": [
       "(3421083, 7)"
      ]
     },
     "execution_count": 6,
     "metadata": {},
     "output_type": "execute_result"
    }
   ],
   "source": [
    "df.shape"
   ]
  },
  {
   "cell_type": "code",
   "execution_count": 7,
   "id": "ca9199a3",
   "metadata": {},
   "outputs": [],
   "source": [
    "orders_wrangled = pd.read_csv(os.path.join(path, '02 Data', 'Prepared Data', 'orders_wrangled.csv'), index_col = False)"
   ]
  },
  {
   "cell_type": "code",
   "execution_count": 8,
   "id": "80936883",
   "metadata": {},
   "outputs": [
    {
     "data": {
      "text/plain": [
       "(49693, 6)"
      ]
     },
     "execution_count": 8,
     "metadata": {},
     "output_type": "execute_result"
    }
   ],
   "source": [
    "orders_wrangled.shape"
   ]
  },
  {
   "cell_type": "code",
   "execution_count": 11,
   "id": "0cf1ed97",
   "metadata": {},
   "outputs": [],
   "source": [
    "orders_products_merge = pd.read_csv(os.path.join(path, '02 Data', 'Prepared Data', 'ords_prods_merge.csv'), index_col = False)"
   ]
  },
  {
   "cell_type": "code",
   "execution_count": 12,
   "id": "d3639650",
   "metadata": {},
   "outputs": [
    {
     "data": {
      "text/plain": [
       "(32404859, 25)"
      ]
     },
     "execution_count": 12,
     "metadata": {},
     "output_type": "execute_result"
    }
   ],
   "source": [
    "orders_products_merge.shape"
   ]
  },
  {
   "cell_type": "code",
   "execution_count": null,
   "id": "26edd4ca",
   "metadata": {},
   "outputs": [],
   "source": []
  }
 ],
 "metadata": {
  "kernelspec": {
   "display_name": "Python 3 (ipykernel)",
   "language": "python",
   "name": "python3"
  },
  "language_info": {
   "codemirror_mode": {
    "name": "ipython",
    "version": 3
   },
   "file_extension": ".py",
   "mimetype": "text/x-python",
   "name": "python",
   "nbconvert_exporter": "python",
   "pygments_lexer": "ipython3",
   "version": "3.9.7"
  }
 },
 "nbformat": 4,
 "nbformat_minor": 5
}
